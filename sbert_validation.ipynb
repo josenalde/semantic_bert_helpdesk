{
 "cells": [
  {
   "cell_type": "code",
   "execution_count": 1,
   "id": "fc7674be",
   "metadata": {},
   "outputs": [
    {
     "name": "stdout",
     "output_type": "stream",
     "text": [
      "Collecting sentence-transformers\n",
      "  Downloading sentence_transformers-5.1.0-py3-none-any.whl.metadata (16 kB)\n",
      "Requirement already satisfied: transformers<5.0.0,>=4.41.0 in c:\\users\\josen\\anaconda3\\envs\\tadsml\\lib\\site-packages (from sentence-transformers) (4.51.3)\n",
      "Requirement already satisfied: tqdm in c:\\users\\josen\\anaconda3\\envs\\tadsml\\lib\\site-packages (from sentence-transformers) (4.67.1)\n",
      "Requirement already satisfied: torch>=1.11.0 in c:\\users\\josen\\anaconda3\\envs\\tadsml\\lib\\site-packages (from sentence-transformers) (2.7.0)\n",
      "Requirement already satisfied: scikit-learn in c:\\users\\josen\\anaconda3\\envs\\tadsml\\lib\\site-packages (from sentence-transformers) (1.6.1)\n",
      "Requirement already satisfied: scipy in c:\\users\\josen\\anaconda3\\envs\\tadsml\\lib\\site-packages (from sentence-transformers) (1.14.1)\n",
      "Requirement already satisfied: huggingface-hub>=0.20.0 in c:\\users\\josen\\anaconda3\\envs\\tadsml\\lib\\site-packages (from sentence-transformers) (0.31.1)\n",
      "Requirement already satisfied: Pillow in c:\\users\\josen\\anaconda3\\envs\\tadsml\\lib\\site-packages (from sentence-transformers) (11.0.0)\n",
      "Requirement already satisfied: typing_extensions>=4.5.0 in c:\\users\\josen\\anaconda3\\envs\\tadsml\\lib\\site-packages (from sentence-transformers) (4.14.0)\n",
      "Requirement already satisfied: filelock in c:\\users\\josen\\anaconda3\\envs\\tadsml\\lib\\site-packages (from huggingface-hub>=0.20.0->sentence-transformers) (3.18.0)\n",
      "Requirement already satisfied: fsspec>=2023.5.0 in c:\\users\\josen\\anaconda3\\envs\\tadsml\\lib\\site-packages (from huggingface-hub>=0.20.0->sentence-transformers) (2025.3.0)\n",
      "Requirement already satisfied: packaging>=20.9 in c:\\users\\josen\\anaconda3\\envs\\tadsml\\lib\\site-packages (from huggingface-hub>=0.20.0->sentence-transformers) (24.1)\n",
      "Requirement already satisfied: pyyaml>=5.1 in c:\\users\\josen\\anaconda3\\envs\\tadsml\\lib\\site-packages (from huggingface-hub>=0.20.0->sentence-transformers) (6.0.2)\n",
      "Requirement already satisfied: requests in c:\\users\\josen\\anaconda3\\envs\\tadsml\\lib\\site-packages (from huggingface-hub>=0.20.0->sentence-transformers) (2.32.3)\n",
      "Requirement already satisfied: sympy>=1.13.3 in c:\\users\\josen\\anaconda3\\envs\\tadsml\\lib\\site-packages (from torch>=1.11.0->sentence-transformers) (1.14.0)\n",
      "Requirement already satisfied: networkx in c:\\users\\josen\\anaconda3\\envs\\tadsml\\lib\\site-packages (from torch>=1.11.0->sentence-transformers) (3.4.2)\n",
      "Requirement already satisfied: jinja2 in c:\\users\\josen\\anaconda3\\envs\\tadsml\\lib\\site-packages (from torch>=1.11.0->sentence-transformers) (3.1.4)\n",
      "Requirement already satisfied: setuptools in c:\\users\\josen\\anaconda3\\envs\\tadsml\\lib\\site-packages (from torch>=1.11.0->sentence-transformers) (75.1.0)\n",
      "Requirement already satisfied: colorama in c:\\users\\josen\\anaconda3\\envs\\tadsml\\lib\\site-packages (from tqdm->sentence-transformers) (0.4.6)\n",
      "Requirement already satisfied: numpy>=1.17 in c:\\users\\josen\\anaconda3\\envs\\tadsml\\lib\\site-packages (from transformers<5.0.0,>=4.41.0->sentence-transformers) (1.26.4)\n",
      "Requirement already satisfied: regex!=2019.12.17 in c:\\users\\josen\\anaconda3\\envs\\tadsml\\lib\\site-packages (from transformers<5.0.0,>=4.41.0->sentence-transformers) (2024.11.6)\n",
      "Requirement already satisfied: tokenizers<0.22,>=0.21 in c:\\users\\josen\\anaconda3\\envs\\tadsml\\lib\\site-packages (from transformers<5.0.0,>=4.41.0->sentence-transformers) (0.21.1)\n",
      "Requirement already satisfied: safetensors>=0.4.3 in c:\\users\\josen\\anaconda3\\envs\\tadsml\\lib\\site-packages (from transformers<5.0.0,>=4.41.0->sentence-transformers) (0.5.3)\n",
      "Requirement already satisfied: joblib>=1.2.0 in c:\\users\\josen\\anaconda3\\envs\\tadsml\\lib\\site-packages (from scikit-learn->sentence-transformers) (1.4.2)\n",
      "Requirement already satisfied: threadpoolctl>=3.1.0 in c:\\users\\josen\\anaconda3\\envs\\tadsml\\lib\\site-packages (from scikit-learn->sentence-transformers) (3.5.0)\n",
      "Requirement already satisfied: mpmath<1.4,>=1.1.0 in c:\\users\\josen\\anaconda3\\envs\\tadsml\\lib\\site-packages (from sympy>=1.13.3->torch>=1.11.0->sentence-transformers) (1.3.0)\n",
      "Requirement already satisfied: MarkupSafe>=2.0 in c:\\users\\josen\\anaconda3\\envs\\tadsml\\lib\\site-packages (from jinja2->torch>=1.11.0->sentence-transformers) (2.1.3)\n",
      "Requirement already satisfied: charset-normalizer<4,>=2 in c:\\users\\josen\\anaconda3\\envs\\tadsml\\lib\\site-packages (from requests->huggingface-hub>=0.20.0->sentence-transformers) (3.3.2)\n",
      "Requirement already satisfied: idna<4,>=2.5 in c:\\users\\josen\\anaconda3\\envs\\tadsml\\lib\\site-packages (from requests->huggingface-hub>=0.20.0->sentence-transformers) (3.7)\n",
      "Requirement already satisfied: urllib3<3,>=1.21.1 in c:\\users\\josen\\anaconda3\\envs\\tadsml\\lib\\site-packages (from requests->huggingface-hub>=0.20.0->sentence-transformers) (2.2.3)\n",
      "Requirement already satisfied: certifi>=2017.4.17 in c:\\users\\josen\\anaconda3\\envs\\tadsml\\lib\\site-packages (from requests->huggingface-hub>=0.20.0->sentence-transformers) (2025.4.26)\n",
      "Downloading sentence_transformers-5.1.0-py3-none-any.whl (483 kB)\n",
      "Installing collected packages: sentence-transformers\n",
      "Successfully installed sentence-transformers-5.1.0\n",
      "Note: you may need to restart the kernel to use updated packages.\n"
     ]
    }
   ],
   "source": [
    "%pip install -U sentence-transformers"
   ]
  },
  {
   "cell_type": "markdown",
   "id": "46658236",
   "metadata": {},
   "source": [
    "### Similaridade semântica textual com Sentence-BERT: https://sbert.net/docs/sentence_transformer/usage/semantic_textual_similarity.html"
   ]
  },
  {
   "cell_type": "code",
   "execution_count": 14,
   "id": "8115c07f",
   "metadata": {},
   "outputs": [],
   "source": [
    "from sentence_transformers import SentenceTransformer, SimilarityFunction"
   ]
  },
  {
   "cell_type": "code",
   "execution_count": null,
   "id": "d7fc1190",
   "metadata": {},
   "outputs": [
    {
     "name": "stdout",
     "output_type": "stream",
     "text": [
      "[[ 0.00233289 -0.06307471 -0.02393404 ...  0.01279308  0.03293154\n",
      "  -0.02647773]\n",
      " [ 0.02992252 -0.07806981 -0.0066431  ...  0.02608765 -0.02178305\n",
      "  -0.12417793]]\n"
     ]
    }
   ],
   "source": [
    "sentences = [\"O defeito é na placa mãe do computador\", \"Comportamento instável do computador, reiniciando\"]\n",
    "#testar  all-MiniLM-L6-v2\n",
    "model = SentenceTransformer('sentence-transformers/distiluse-base-multilingual-cased-v1')\n",
    "embeddings = model.encode(sentences)\n",
    "print(embeddings)"
   ]
  },
  {
   "cell_type": "code",
   "execution_count": 9,
   "id": "4a74050d",
   "metadata": {},
   "outputs": [
    {
     "name": "stdout",
     "output_type": "stream",
     "text": [
      "(2, 512)\n",
      "tensor([[1.0000, 0.3614],\n",
      "        [0.3614, 1.0000]])\n"
     ]
    }
   ],
   "source": [
    "print(embeddings.shape)\n",
    "\n",
    "# Calculate the embedding similarities\n",
    "similarities = model.similarity(embeddings, embeddings)\n",
    "print(similarities)"
   ]
  },
  {
   "cell_type": "code",
   "execution_count": 7,
   "id": "af12a690",
   "metadata": {},
   "outputs": [
    {
     "name": "stdout",
     "output_type": "stream",
     "text": [
      "The new movie is awesome\n",
      " - The dog plays in the garden   : 0.0337\n",
      " - The new movie is so great     : 0.9862\n",
      " - A woman watches TV where some actors are playing the piano: 0.0380\n",
      "The cat sits outside\n",
      " - The dog plays in the garden   : 0.3673\n",
      " - The new movie is so great     : 0.0162\n",
      " - A woman watches TV where some actors are playing the piano: 0.1208\n",
      "A man is playing guitar\n",
      " - The dog plays in the garden   : 0.3326\n",
      " - The new movie is so great     : 0.0621\n",
      " - A woman watches TV where some actors are playing the piano: 0.3204\n"
     ]
    }
   ],
   "source": [
    "# Two lists of sentences\n",
    "memo1 = [\n",
    "    \"The new movie is awesome\",\n",
    "    \"The cat sits outside\",\n",
    "    \"A man is playing guitar\",\n",
    "]\n",
    "\n",
    "memo2 = [\n",
    "    \"The dog plays in the garden\",\n",
    "    \"The new movie is so great\",\n",
    "    \"A woman watches TV where some actors are playing the piano\",\n",
    "]\n",
    "\n",
    "# Compute embeddings for both lists\n",
    "embeddings1 = model.encode(memo1)\n",
    "embeddings2 = model.encode(memo2)\n",
    "\n",
    "# Compute cosine similarities\n",
    "similarities = model.similarity(embeddings1, embeddings2)\n",
    "\n",
    "# Output the pairs with their score\n",
    "for idx_i, sentence1 in enumerate(memo1):\n",
    "    print(sentence1)\n",
    "    for idx_j, sentence2 in enumerate(memo2):\n",
    "        print(f\" - {sentence2: <30}: {similarities[idx_i][idx_j]:.4f}\")"
   ]
  },
  {
   "cell_type": "code",
   "execution_count": null,
   "id": "501127fe",
   "metadata": {},
   "outputs": [
    {
     "name": "stdout",
     "output_type": "stream",
     "text": [
      "tensor([[0.4923]])\n",
      "Display sem imagem,necessario a troca do lcd\n",
      " - touch screen nao funciona na parte de baixo,necessário a troca do lcd,aplicado ecn: 0.4923\n",
      "tensor([[0.4923]])\n",
      "Display sem imagem,necessario a troca do lcd\n",
      " - touch screen nao funciona na parte de baixo,necessário a troca do lcd,aplicado ecn: 0.4923\n"
     ]
    }
   ],
   "source": [
    "memo1 = [\"aparelho liga  mas não apresenta imagem, acende os  LED mais não apresenta imagem.  foi feito JIG 05 ,porém a falha persiste,sendo necessario a troca da placa principal para sanar a falha ,Após a troca -> Foi realizado teste ADT/ extensível system teste e não apresentou erro.\"]\n",
    "memo2 = [\"APARELHO LIGA SEM IMAGEM FOI FEITO A ATUALIZAÇÃO NA JIG5 E NÃO OBTEVE SUCESSO APOS TROCA DA PLACA PRINCIPAL FOI REALIZADO O ADT EXTENSIVE SISTEM TESTE,MB FULL,ADAPTER QUICK E NÃO APRESENTOU FALHAS FEITO A INSTALÇAÕ DE SOFTWARE. ADT\"]\n",
    "\n",
    "memo1 = [\"Display sem imagem,necessario a troca do lcd\"]\n",
    "memo2 = [\"touch screen nao funciona na parte de baixo,necessário a troca do lcd,aplicado ecn,CSC-RCN-ZAUM6163_2\"]\n",
    "\n",
    "#memo1 = [\"Aparelho  não liga . (indicadores LED  não acendem). JIG 05 não reconhece -> Placa principal não liga .-> Após a troca da placa principal -> Foi realizado teste ADT/ extensível system teste e não apresentou erro. Teste ADT após a troca da placa principal\",\n",
    "#         \"aparelho liga  mas não apresenta imagem, acende os  LED mais não apresenta imagem.  foi feito JIG 05 ,porém a falha persiste,sendo necessario a troca da placa principal para sanar a falha ,Após a troca -> Foi realizado teste ADT/ extensível system teste e não apresentou erro.\",\n",
    "#         \"Display sem imagem,necessario a troca do lcd\"]\n",
    "\n",
    "#memo2 = [\"Aparelho não liga e não acende os leds. Feito tentativa de atualização da bios via jigboard, porém jig não reconheceu EC da placa main, foi verificada a continuidade dos pinos 1 e 30, ambos estão com resistência próximo do zero.\",\n",
    "#         \"APARELHO LIGA SEM IMAGEM FOI FEITO A ATUALIZAÇÃO NA JIG5 E NÃO OBTEVE SUCESSO APOS TROCA DA PLACA PRINCIPAL FOI REALIZADO O ADT EXTENSIVE SISTEM TESTE,MB FULL,ADAPTER QUICK E NÃO APRESENTOU FALHAS FEITO A INSTALÇAÕ DE SOFTWARE. ADT\",\n",
    "#         \"touch screen nao funciona na parte de baixo,necessário a troca do lcd,aplicado ecn,CSC-RCN-ZAUM6163_2\"]\n",
    "\n",
    "# Compute embeddings for both lists\n",
    "embeddings1 = model.encode(memo1)\n",
    "embeddings2 = model.encode(memo2)\n",
    "\n",
    "# Compute cosine similarities\n",
    "similarities = model.similarity(embeddings1, embeddings2)\n",
    "print(similarities)\n",
    "\"\"\"# Change the similarity function to Manhattan distance\n",
    "model.similarity_fn_name = SimilarityFunction.MANHATTAN (COSINE, DOT_PRODUCT, EUCLIDEAN, MANHATTAN)\n",
    "print(model.similarity_fn_name)\n",
    "# => \"manhattan\"\n",
    "Some of the popular similarity measures are given below:\n",
    "Euclidean Distance\n",
    "Manhattan Distance\n",
    "Jaccard Similarity\n",
    "Minkowski Distance\n",
    "*Cosine Similarity\n",
    "Advantages\n",
    "The cosine similarity is beneficial because even if the two similar data objects are far apart by the Euclidean distance because of the size, they could still have a smaller angle between them. Smaller the angle, higher the similarity.\n",
    "When plotted on a multi-dimensional space, the cosine similarity captures the orientation (the angle) of the data objects and not the magnitude.\n",
    "\n",
    "Disadvantages\n",
    "Sensitive to Sparse Data: Ineffective for sparse data with many zero components; other similarity measures may work better.\n",
    "Ignores Magnitude: Considers only the angle between vectors, missing differences in magnitude.\n",
    "Symmetric: Cannot distinguish the order of comparison, which may be undesirable in some tasks.\n",
    "\"\"\"\n",
    "\n",
    "# Output the pairs with their score\n",
    "for idx_i, sentence1 in enumerate(memo1):\n",
    "    print(sentence1)\n",
    "    for idx_j, sentence2 in enumerate(memo2):\n",
    "        print(f\" - {sentence2: <30}: {similarities[idx_i][idx_j]:.4f}\")\n",
    "        \n",
    "model.similarity_fn_name = SimilarityFunction.DOT_PRODUCT #(COSINE, DOT_PRODUCT, EUCLIDEAN, MANHATTAN)\n",
    "similarities = model.similarity(embeddings1, embeddings2)\n",
    "print(similarities)\n",
    "\n",
    "# Output the pairs with their score\n",
    "for idx_i, sentence1 in enumerate(memo1):\n",
    "    print(sentence1)\n",
    "    for idx_j, sentence2 in enumerate(memo2):\n",
    "        print(f\" - {sentence2: <30}: {similarities[idx_i][idx_j]:.4f}\")"
   ]
  }
 ],
 "metadata": {
  "kernelspec": {
   "display_name": "tadsml",
   "language": "python",
   "name": "python3"
  },
  "language_info": {
   "codemirror_mode": {
    "name": "ipython",
    "version": 3
   },
   "file_extension": ".py",
   "mimetype": "text/x-python",
   "name": "python",
   "nbconvert_exporter": "python",
   "pygments_lexer": "ipython3",
   "version": "3.12.7"
  }
 },
 "nbformat": 4,
 "nbformat_minor": 5
}
